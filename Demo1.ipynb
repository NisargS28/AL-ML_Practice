{
  "nbformat": 4,
  "nbformat_minor": 0,
  "metadata": {
    "colab": {
      "provenance": [],
      "toc_visible": true,
      "authorship_tag": "ABX9TyOc5R7c5eDCgy42a2RwFSWN",
      "include_colab_link": true
    },
    "kernelspec": {
      "name": "python3",
      "display_name": "Python 3"
    },
    "language_info": {
      "name": "python"
    }
  },
  "cells": [
    {
      "cell_type": "markdown",
      "metadata": {
        "id": "view-in-github",
        "colab_type": "text"
      },
      "source": [
        "<a href=\"https://colab.research.google.com/github/NisargS28/AL-ML_Practice/blob/main/Demo1.ipynb\" target=\"_parent\"><img src=\"https://colab.research.google.com/assets/colab-badge.svg\" alt=\"Open In Colab\"/></a>"
      ]
    },
    {
      "cell_type": "code",
      "execution_count": null,
      "metadata": {
        "id": "I3aKZvAcnLy2"
      },
      "outputs": [],
      "source": [
        "#Import necessary libraries\n",
        "import pandas as pd\n",
        "from sklearn.linear_model import LogisticRegression"
      ]
    },
    {
      "cell_type": "code",
      "source": [
        "#Loading the Dataset and Displaying the First Few Rows\n",
        "iris_data = pd.read_csv('Iris.csv')\n",
        "iris_data.head()"
      ],
      "metadata": {
        "id": "GL773NIbpx81"
      },
      "execution_count": null,
      "outputs": []
    },
    {
      "cell_type": "code",
      "source": [
        "# Split the data into features (X) and labels (y)\n",
        "X=iris_data.drop(columns=['Id', 'Species'])\n",
        "y=iris_data['Species']"
      ],
      "metadata": {
        "id": "9iiPGO8hqMQa"
      },
      "execution_count": null,
      "outputs": []
    },
    {
      "cell_type": "markdown",
      "source": [
        "X.head()"
      ],
      "metadata": {
        "id": "mutR212VqV6b"
      }
    },
    {
      "cell_type": "code",
      "source": [
        "#create a ml model\n",
        "model=LogisticRegression()"
      ],
      "metadata": {
        "id": "mz1iT01Hqgzv"
      },
      "execution_count": null,
      "outputs": []
    },
    {
      "cell_type": "code",
      "source": [
        "model.fit(X.values,y)"
      ],
      "metadata": {
        "id": "Vz8Jjb8Xqwcy"
      },
      "execution_count": null,
      "outputs": []
    },
    {
      "cell_type": "code",
      "source": [
        "predictions= model.predict([[4.6,3.5,1.5,0.2]])"
      ],
      "metadata": {
        "id": "SDSLad1aq9jG"
      },
      "execution_count": null,
      "outputs": []
    },
    {
      "cell_type": "code",
      "source": [
        "print(predictions)"
      ],
      "metadata": {
        "id": "IjiWefJGrbhb"
      },
      "execution_count": null,
      "outputs": []
    }
  ]
}